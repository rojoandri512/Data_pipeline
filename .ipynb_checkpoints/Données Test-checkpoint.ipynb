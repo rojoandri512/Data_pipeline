{
 "cells": [
  {
   "cell_type": "code",
   "execution_count": 1,
   "id": "4b1182bf",
   "metadata": {},
   "outputs": [],
   "source": [
    "import pandas as pd\n",
    "import numpy as np\n",
    "pd.set_option(\"display.max_rows\", None)\n",
    "pd.set_option(\"display.max_columns\", None)\n",
    "pd.set_option(\"display.expand_frame_repr\", False)\n"
   ]
  },
  {
   "cell_type": "code",
   "execution_count": 2,
   "id": "e50cdfe7",
   "metadata": {},
   "outputs": [],
   "source": [
    "df= pd.read_excel(\"Données test.xlsx\")"
   ]
  },
  {
   "cell_type": "code",
   "execution_count": null,
   "id": "9780bfd2",
   "metadata": {},
   "outputs": [],
   "source": []
  },
  {
   "cell_type": "code",
   "execution_count": 3,
   "id": "a750061f",
   "metadata": {},
   "outputs": [
    {
     "data": {
      "text/plain": [
       "Numéro de compte               0\n",
       "Date de la transaction         0\n",
       "Détail de la transaction    2499\n",
       "Numéro de chèque               0\n",
       "Date de valeur                 0\n",
       "Montant retiré                 0\n",
       "Montant de dépôt               0\n",
       "Solde                          0\n",
       ".                              0\n",
       "dtype: int64"
      ]
     },
     "execution_count": 3,
     "metadata": {},
     "output_type": "execute_result"
    }
   ],
   "source": [
    "df.isna().sum()"
   ]
  },
  {
   "cell_type": "code",
   "execution_count": null,
   "id": "ff0e3667",
   "metadata": {},
   "outputs": [],
   "source": []
  },
  {
   "cell_type": "code",
   "execution_count": null,
   "id": "7ca7530a",
   "metadata": {},
   "outputs": [],
   "source": []
  },
  {
   "cell_type": "code",
   "execution_count": null,
   "id": "b169389e",
   "metadata": {},
   "outputs": [],
   "source": []
  },
  {
   "cell_type": "code",
   "execution_count": null,
   "id": "eb8ef3b9",
   "metadata": {},
   "outputs": [],
   "source": []
  },
  {
   "cell_type": "code",
   "execution_count": 4,
   "id": "04991833",
   "metadata": {},
   "outputs": [
    {
     "data": {
      "text/html": [
       "<div>\n",
       "<style scoped>\n",
       "    .dataframe tbody tr th:only-of-type {\n",
       "        vertical-align: middle;\n",
       "    }\n",
       "\n",
       "    .dataframe tbody tr th {\n",
       "        vertical-align: top;\n",
       "    }\n",
       "\n",
       "    .dataframe thead th {\n",
       "        text-align: right;\n",
       "    }\n",
       "</style>\n",
       "<table border=\"1\" class=\"dataframe\">\n",
       "  <thead>\n",
       "    <tr style=\"text-align: right;\">\n",
       "      <th></th>\n",
       "      <th>Numéro de compte</th>\n",
       "      <th>Date de la transaction</th>\n",
       "      <th>Détail de la transaction</th>\n",
       "      <th>Numéro de chèque</th>\n",
       "      <th>Date de valeur</th>\n",
       "      <th>Montant retiré</th>\n",
       "      <th>Montant de dépôt</th>\n",
       "      <th>Solde</th>\n",
       "      <th>.</th>\n",
       "    </tr>\n",
       "  </thead>\n",
       "  <tbody>\n",
       "    <tr>\n",
       "      <th>0</th>\n",
       "      <td>409000611074'</td>\n",
       "      <td>2017-06-29</td>\n",
       "      <td>TRF FROM  Indiaforensic SERVICES</td>\n",
       "      <td>0.0</td>\n",
       "      <td>2017-06-29</td>\n",
       "      <td>Pas de retrait</td>\n",
       "      <td>1000000</td>\n",
       "      <td>1000000.0</td>\n",
       "      <td>.</td>\n",
       "    </tr>\n",
       "    <tr>\n",
       "      <th>1</th>\n",
       "      <td>409000611074'</td>\n",
       "      <td>2017-07-05</td>\n",
       "      <td>TRF FROM  Indiaforensic SERVICES</td>\n",
       "      <td>0.0</td>\n",
       "      <td>2017-07-05</td>\n",
       "      <td>Pas de retrait</td>\n",
       "      <td>1000000</td>\n",
       "      <td>2000000.0</td>\n",
       "      <td>.</td>\n",
       "    </tr>\n",
       "    <tr>\n",
       "      <th>2</th>\n",
       "      <td>409000611074'</td>\n",
       "      <td>2017-07-18</td>\n",
       "      <td>TRF FROM  Indiaforensic SERVICES</td>\n",
       "      <td>0.0</td>\n",
       "      <td>2017-07-18</td>\n",
       "      <td>Pas de retrait</td>\n",
       "      <td>500000</td>\n",
       "      <td>2500000.0</td>\n",
       "      <td>.</td>\n",
       "    </tr>\n",
       "    <tr>\n",
       "      <th>3</th>\n",
       "      <td>409000611074'</td>\n",
       "      <td>2017-08-01</td>\n",
       "      <td>TRF FROM  Indiaforensic SERVICES</td>\n",
       "      <td>0.0</td>\n",
       "      <td>2017-08-01</td>\n",
       "      <td>Pas de retrait</td>\n",
       "      <td>3000000</td>\n",
       "      <td>5500000.0</td>\n",
       "      <td>.</td>\n",
       "    </tr>\n",
       "    <tr>\n",
       "      <th>4</th>\n",
       "      <td>409000611074'</td>\n",
       "      <td>2017-08-16</td>\n",
       "      <td>TRF FROM  Indiaforensic SERVICES</td>\n",
       "      <td>0.0</td>\n",
       "      <td>2017-08-16</td>\n",
       "      <td>Pas de retrait</td>\n",
       "      <td>500000</td>\n",
       "      <td>6000000.0</td>\n",
       "      <td>.</td>\n",
       "    </tr>\n",
       "  </tbody>\n",
       "</table>\n",
       "</div>"
      ],
      "text/plain": [
       "  Numéro de compte Date de la transaction          Détail de la transaction  Numéro de chèque Date de valeur  Montant retiré Montant de dépôt      Solde  .\n",
       "0    409000611074'             2017-06-29  TRF FROM  Indiaforensic SERVICES               0.0     2017-06-29  Pas de retrait          1000000  1000000.0  .\n",
       "1    409000611074'             2017-07-05  TRF FROM  Indiaforensic SERVICES               0.0     2017-07-05  Pas de retrait          1000000  2000000.0  .\n",
       "2    409000611074'             2017-07-18  TRF FROM  Indiaforensic SERVICES               0.0     2017-07-18  Pas de retrait           500000  2500000.0  .\n",
       "3    409000611074'             2017-08-01  TRF FROM  Indiaforensic SERVICES               0.0     2017-08-01  Pas de retrait          3000000  5500000.0  .\n",
       "4    409000611074'             2017-08-16  TRF FROM  Indiaforensic SERVICES               0.0     2017-08-16  Pas de retrait           500000  6000000.0  ."
      ]
     },
     "execution_count": 4,
     "metadata": {},
     "output_type": "execute_result"
    }
   ],
   "source": [
    "df.head()"
   ]
  },
  {
   "cell_type": "code",
   "execution_count": 5,
   "id": "80a8d52f",
   "metadata": {},
   "outputs": [
    {
     "name": "stderr",
     "output_type": "stream",
     "text": [
      "IOPub data rate exceeded.\n",
      "The notebook server will temporarily stop sending output\n",
      "to the client in order to avoid crashing it.\n",
      "To change this limit, set the config variable\n",
      "`--NotebookApp.iopub_data_rate_limit`.\n",
      "\n",
      "Current values:\n",
      "NotebookApp.iopub_data_rate_limit=1000000.0 (bytes/sec)\n",
      "NotebookApp.rate_limit_window=3.0 (secs)\n",
      "\n"
     ]
    }
   ],
   "source": [
    "# Supposons que vous ayez déjà chargé vos données dans les DataFrames suivants : retrait_df et depot_df\n",
    "\n",
    "# Transformez les valeurs des dépôts en valeurs positives\n",
    "\n",
    "# Concaténez les DataFrames \"Retrait\" et \"Dépôt\" en une seule table \"Action\"\n",
    "df['Action']= pd.concat([df['Montant retiré'], df['Montant de dépôt']], ignore_index=True)\n",
    "\n",
    "\n",
    "\n",
    "# Réinitialisation de l'index si nécessaire\n",
    "df['Action'].reset_index(drop=True, inplace=True)\n",
    "\n",
    "# Affichez le DataFrame résultant\n",
    "print(df['Action'])\n"
   ]
  },
  {
   "cell_type": "code",
   "execution_count": 6,
   "id": "a59acf44",
   "metadata": {},
   "outputs": [
    {
     "data": {
      "text/html": [
       "<div>\n",
       "<style scoped>\n",
       "    .dataframe tbody tr th:only-of-type {\n",
       "        vertical-align: middle;\n",
       "    }\n",
       "\n",
       "    .dataframe tbody tr th {\n",
       "        vertical-align: top;\n",
       "    }\n",
       "\n",
       "    .dataframe thead th {\n",
       "        text-align: right;\n",
       "    }\n",
       "</style>\n",
       "<table border=\"1\" class=\"dataframe\">\n",
       "  <thead>\n",
       "    <tr style=\"text-align: right;\">\n",
       "      <th></th>\n",
       "      <th>Numéro de compte</th>\n",
       "      <th>Date de la transaction</th>\n",
       "      <th>Détail de la transaction</th>\n",
       "      <th>Numéro de chèque</th>\n",
       "      <th>Date de valeur</th>\n",
       "      <th>Montant retiré</th>\n",
       "      <th>Montant de dépôt</th>\n",
       "      <th>Solde</th>\n",
       "      <th>.</th>\n",
       "      <th>Action</th>\n",
       "    </tr>\n",
       "  </thead>\n",
       "  <tbody>\n",
       "    <tr>\n",
       "      <th>0</th>\n",
       "      <td>409000611074'</td>\n",
       "      <td>2017-06-29</td>\n",
       "      <td>TRF FROM  Indiaforensic SERVICES</td>\n",
       "      <td>0.0</td>\n",
       "      <td>2017-06-29</td>\n",
       "      <td>Pas de retrait</td>\n",
       "      <td>1000000</td>\n",
       "      <td>1000000.0</td>\n",
       "      <td>.</td>\n",
       "      <td>Pas de retrait</td>\n",
       "    </tr>\n",
       "    <tr>\n",
       "      <th>1</th>\n",
       "      <td>409000611074'</td>\n",
       "      <td>2017-07-05</td>\n",
       "      <td>TRF FROM  Indiaforensic SERVICES</td>\n",
       "      <td>0.0</td>\n",
       "      <td>2017-07-05</td>\n",
       "      <td>Pas de retrait</td>\n",
       "      <td>1000000</td>\n",
       "      <td>2000000.0</td>\n",
       "      <td>.</td>\n",
       "      <td>Pas de retrait</td>\n",
       "    </tr>\n",
       "    <tr>\n",
       "      <th>2</th>\n",
       "      <td>409000611074'</td>\n",
       "      <td>2017-07-18</td>\n",
       "      <td>TRF FROM  Indiaforensic SERVICES</td>\n",
       "      <td>0.0</td>\n",
       "      <td>2017-07-18</td>\n",
       "      <td>Pas de retrait</td>\n",
       "      <td>500000</td>\n",
       "      <td>2500000.0</td>\n",
       "      <td>.</td>\n",
       "      <td>Pas de retrait</td>\n",
       "    </tr>\n",
       "    <tr>\n",
       "      <th>3</th>\n",
       "      <td>409000611074'</td>\n",
       "      <td>2017-08-01</td>\n",
       "      <td>TRF FROM  Indiaforensic SERVICES</td>\n",
       "      <td>0.0</td>\n",
       "      <td>2017-08-01</td>\n",
       "      <td>Pas de retrait</td>\n",
       "      <td>3000000</td>\n",
       "      <td>5500000.0</td>\n",
       "      <td>.</td>\n",
       "      <td>Pas de retrait</td>\n",
       "    </tr>\n",
       "    <tr>\n",
       "      <th>4</th>\n",
       "      <td>409000611074'</td>\n",
       "      <td>2017-08-16</td>\n",
       "      <td>TRF FROM  Indiaforensic SERVICES</td>\n",
       "      <td>0.0</td>\n",
       "      <td>2017-08-16</td>\n",
       "      <td>Pas de retrait</td>\n",
       "      <td>500000</td>\n",
       "      <td>6000000.0</td>\n",
       "      <td>.</td>\n",
       "      <td>Pas de retrait</td>\n",
       "    </tr>\n",
       "  </tbody>\n",
       "</table>\n",
       "</div>"
      ],
      "text/plain": [
       "  Numéro de compte Date de la transaction          Détail de la transaction  Numéro de chèque Date de valeur  Montant retiré Montant de dépôt      Solde  .          Action\n",
       "0    409000611074'             2017-06-29  TRF FROM  Indiaforensic SERVICES               0.0     2017-06-29  Pas de retrait          1000000  1000000.0  .  Pas de retrait\n",
       "1    409000611074'             2017-07-05  TRF FROM  Indiaforensic SERVICES               0.0     2017-07-05  Pas de retrait          1000000  2000000.0  .  Pas de retrait\n",
       "2    409000611074'             2017-07-18  TRF FROM  Indiaforensic SERVICES               0.0     2017-07-18  Pas de retrait           500000  2500000.0  .  Pas de retrait\n",
       "3    409000611074'             2017-08-01  TRF FROM  Indiaforensic SERVICES               0.0     2017-08-01  Pas de retrait          3000000  5500000.0  .  Pas de retrait\n",
       "4    409000611074'             2017-08-16  TRF FROM  Indiaforensic SERVICES               0.0     2017-08-16  Pas de retrait           500000  6000000.0  .  Pas de retrait"
      ]
     },
     "execution_count": 6,
     "metadata": {},
     "output_type": "execute_result"
    }
   ],
   "source": [
    "df.head()"
   ]
  },
  {
   "cell_type": "code",
   "execution_count": 15,
   "id": "2e374749",
   "metadata": {},
   "outputs": [
    {
     "ename": "NameError",
     "evalue": "name 'retiré' is not defined",
     "output_type": "error",
     "traceback": [
      "\u001b[1;31m---------------------------------------------------------------------------\u001b[0m",
      "\u001b[1;31mNameError\u001b[0m                                 Traceback (most recent call last)",
      "Cell \u001b[1;32mIn[15], line 1\u001b[0m\n\u001b[1;32m----> 1\u001b[0m df[\u001b[38;5;124m\"\u001b[39m\u001b[38;5;124mretiré\u001b[39m\u001b[38;5;124m\"\u001b[39m] \u001b[38;5;241m=\u001b[39m retiré\n\u001b[0;32m      2\u001b[0m df[\u001b[38;5;124m\"\u001b[39m\u001b[38;5;124mdépôt\u001b[39m\u001b[38;5;124m\"\u001b[39m] \u001b[38;5;241m=\u001b[39mdépôt\n\u001b[0;32m      3\u001b[0m \u001b[38;5;28;01mfor\u001b[39;00m i,action \u001b[38;5;129;01min\u001b[39;00m \u001b[38;5;28menumerate\u001b[39m(df[\u001b[38;5;124m\"\u001b[39m\u001b[38;5;124mAction\u001b[39m\u001b[38;5;124m\"\u001b[39m]):\n",
      "\u001b[1;31mNameError\u001b[0m: name 'retiré' is not defined"
     ]
    }
   ],
   "source": [
    "df[\"retiré\"] = retiré\n",
    "df[\"dépôt\"] =dépôt\n",
    "for i,action in enumerate(df[\"Action\"]):\n",
    "    if retiré[i] == \"Pas de retrait\":\n",
    "        action = dépôt\n",
    "        df[\"Action\"] = action\n",
    "    else:\n",
    "        if dépôt == \"Pas de de dépôt\":\n",
    "            action = retiré\n",
    "            df[\"Action\"] = action"
   ]
  },
  {
   "cell_type": "code",
   "execution_count": null,
   "id": "42f213aa",
   "metadata": {},
   "outputs": [],
   "source": []
  },
  {
   "cell_type": "code",
   "execution_count": null,
   "id": "301a6e1c",
   "metadata": {},
   "outputs": [],
   "source": []
  }
 ],
 "metadata": {
  "kernelspec": {
   "display_name": "Python 3 (ipykernel)",
   "language": "python",
   "name": "python3"
  },
  "language_info": {
   "codemirror_mode": {
    "name": "ipython",
    "version": 3
   },
   "file_extension": ".py",
   "mimetype": "text/x-python",
   "name": "python",
   "nbconvert_exporter": "python",
   "pygments_lexer": "ipython3",
   "version": "3.11.4"
  }
 },
 "nbformat": 4,
 "nbformat_minor": 5
}

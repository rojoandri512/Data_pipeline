{
 "cells": [
  {
   "cell_type": "code",
   "execution_count": 1,
   "id": "4b1182bf",
   "metadata": {},
   "outputs": [],
   "source": [
    "import pandas as pd\n",
    "import numpy as np\n",
    "pd.set_option(\"display.max_rows\", None)\n",
    "pd.set_option(\"display.max_columns\", None)\n",
    "pd.set_option(\"display.expand_frame_repr\", False)\n"
   ]
  },
  {
   "cell_type": "code",
   "execution_count": 2,
   "id": "e50cdfe7",
   "metadata": {},
   "outputs": [],
   "source": [
    "df= pd.read_excel(\"Données test.xlsx\")"
   ]
  },
  {
   "cell_type": "code",
   "execution_count": 5,
   "id": "9780bfd2",
   "metadata": {},
   "outputs": [],
   "source": [
    "df['Date de valeur'] = pd.to_datetime(df['Date de valeur'])\n",
    "df['Date de valeur'] = df['Date de valeur'].dt.strftime('%Y/%m/%d')\n"
   ]
  },
  {
   "cell_type": "code",
   "execution_count": 6,
   "id": "a750061f",
   "metadata": {},
   "outputs": [
    {
     "data": {
      "text/html": [
       "<div>\n",
       "<style scoped>\n",
       "    .dataframe tbody tr th:only-of-type {\n",
       "        vertical-align: middle;\n",
       "    }\n",
       "\n",
       "    .dataframe tbody tr th {\n",
       "        vertical-align: top;\n",
       "    }\n",
       "\n",
       "    .dataframe thead th {\n",
       "        text-align: right;\n",
       "    }\n",
       "</style>\n",
       "<table border=\"1\" class=\"dataframe\">\n",
       "  <thead>\n",
       "    <tr style=\"text-align: right;\">\n",
       "      <th></th>\n",
       "      <th>Numéro de compte</th>\n",
       "      <th>Détail de la transaction</th>\n",
       "      <th>Numéro de chèque</th>\n",
       "      <th>Date de valeur</th>\n",
       "      <th>Solde</th>\n",
       "      <th>Action</th>\n",
       "    </tr>\n",
       "  </thead>\n",
       "  <tbody>\n",
       "    <tr>\n",
       "      <th>0</th>\n",
       "      <td>40900061107</td>\n",
       "      <td>Transfert des services indiaforensic</td>\n",
       "      <td>0</td>\n",
       "      <td>2017/06/29</td>\n",
       "      <td>1000000</td>\n",
       "      <td>1000000.0</td>\n",
       "    </tr>\n",
       "    <tr>\n",
       "      <th>1</th>\n",
       "      <td>40900061107</td>\n",
       "      <td>Transfert des services indiaforensic</td>\n",
       "      <td>0</td>\n",
       "      <td>2017/07/05</td>\n",
       "      <td>2000000</td>\n",
       "      <td>1000000.0</td>\n",
       "    </tr>\n",
       "    <tr>\n",
       "      <th>2</th>\n",
       "      <td>40900061107</td>\n",
       "      <td>Transfert des services indiaforensic</td>\n",
       "      <td>0</td>\n",
       "      <td>2017/07/18</td>\n",
       "      <td>2500000</td>\n",
       "      <td>500000.0</td>\n",
       "    </tr>\n",
       "    <tr>\n",
       "      <th>3</th>\n",
       "      <td>40900061107</td>\n",
       "      <td>Transfert des services indiaforensic</td>\n",
       "      <td>0</td>\n",
       "      <td>2017/08/01</td>\n",
       "      <td>5500000</td>\n",
       "      <td>3000000.0</td>\n",
       "    </tr>\n",
       "    <tr>\n",
       "      <th>4</th>\n",
       "      <td>40900061107</td>\n",
       "      <td>Transfert des services indiaforensic</td>\n",
       "      <td>0</td>\n",
       "      <td>2017/08/16</td>\n",
       "      <td>6000000</td>\n",
       "      <td>500000.0</td>\n",
       "    </tr>\n",
       "  </tbody>\n",
       "</table>\n",
       "</div>"
      ],
      "text/plain": [
       "   Numéro de compte              Détail de la transaction  Numéro de chèque Date de valeur    Solde     Action\n",
       "0       40900061107  Transfert des services indiaforensic                 0     2017/06/29  1000000  1000000.0\n",
       "1       40900061107  Transfert des services indiaforensic                 0     2017/07/05  2000000  1000000.0\n",
       "2       40900061107  Transfert des services indiaforensic                 0     2017/07/18  2500000   500000.0\n",
       "3       40900061107  Transfert des services indiaforensic                 0     2017/08/01  5500000  3000000.0\n",
       "4       40900061107  Transfert des services indiaforensic                 0     2017/08/16  6000000   500000.0"
      ]
     },
     "execution_count": 6,
     "metadata": {},
     "output_type": "execute_result"
    }
   ],
   "source": [
    "df.head()"
   ]
  },
  {
   "cell_type": "code",
   "execution_count": 7,
   "id": "ff0e3667",
   "metadata": {},
   "outputs": [],
   "source": [
    "df.to_excel(\"Données test.xlsx\", index = False)"
   ]
  },
  {
   "cell_type": "code",
   "execution_count": null,
   "id": "7ca7530a",
   "metadata": {},
   "outputs": [],
   "source": []
  },
  {
   "cell_type": "code",
   "execution_count": null,
   "id": "b169389e",
   "metadata": {},
   "outputs": [],
   "source": []
  },
  {
   "cell_type": "code",
   "execution_count": null,
   "id": "eb8ef3b9",
   "metadata": {},
   "outputs": [],
   "source": []
  },
  {
   "cell_type": "code",
   "execution_count": null,
   "id": "04991833",
   "metadata": {},
   "outputs": [],
   "source": []
  },
  {
   "cell_type": "code",
   "execution_count": null,
   "id": "80a8d52f",
   "metadata": {},
   "outputs": [],
   "source": []
  },
  {
   "cell_type": "code",
   "execution_count": null,
   "id": "a59acf44",
   "metadata": {},
   "outputs": [],
   "source": []
  },
  {
   "cell_type": "code",
   "execution_count": null,
   "id": "2e374749",
   "metadata": {},
   "outputs": [],
   "source": []
  },
  {
   "cell_type": "code",
   "execution_count": null,
   "id": "42f213aa",
   "metadata": {},
   "outputs": [],
   "source": []
  },
  {
   "cell_type": "code",
   "execution_count": null,
   "id": "301a6e1c",
   "metadata": {},
   "outputs": [],
   "source": []
  },
  {
   "cell_type": "code",
   "execution_count": null,
   "id": "a1e19421",
   "metadata": {},
   "outputs": [],
   "source": []
  },
  {
   "cell_type": "code",
   "execution_count": null,
   "id": "f1f9d7e7",
   "metadata": {},
   "outputs": [],
   "source": []
  },
  {
   "cell_type": "code",
   "execution_count": null,
   "id": "66ffbec4",
   "metadata": {},
   "outputs": [],
   "source": []
  },
  {
   "cell_type": "code",
   "execution_count": null,
   "id": "3cf79fb3",
   "metadata": {},
   "outputs": [],
   "source": []
  },
  {
   "cell_type": "code",
   "execution_count": null,
   "id": "f86ff4c3",
   "metadata": {},
   "outputs": [],
   "source": []
  },
  {
   "cell_type": "code",
   "execution_count": null,
   "id": "caedcb1a",
   "metadata": {},
   "outputs": [],
   "source": []
  }
 ],
 "metadata": {
  "kernelspec": {
   "display_name": "Python 3 (ipykernel)",
   "language": "python",
   "name": "python3"
  },
  "language_info": {
   "codemirror_mode": {
    "name": "ipython",
    "version": 3
   },
   "file_extension": ".py",
   "mimetype": "text/x-python",
   "name": "python",
   "nbconvert_exporter": "python",
   "pygments_lexer": "ipython3",
   "version": "3.11.4"
  }
 },
 "nbformat": 4,
 "nbformat_minor": 5
}
